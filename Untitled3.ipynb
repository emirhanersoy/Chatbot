{
  "nbformat": 4,
  "nbformat_minor": 0,
  "metadata": {
    "colab": {
      "provenance": [],
      "authorship_tag": "ABX9TyPjG4y1hT6VTJSCnM4w+72g",
      "include_colab_link": true
    },
    "kernelspec": {
      "name": "python3",
      "display_name": "Python 3"
    },
    "language_info": {
      "name": "python"
    }
  },
  "cells": [
    {
      "cell_type": "markdown",
      "metadata": {
        "id": "view-in-github",
        "colab_type": "text"
      },
      "source": [
        "<a href=\"https://colab.research.google.com/github/emirhanersoy/Chatbot/blob/main/Untitled3.ipynb\" target=\"_parent\"><img src=\"https://colab.research.google.com/assets/colab-badge.svg\" alt=\"Open In Colab\"/></a>"
      ]
    },
    {
      "cell_type": "code",
      "execution_count": 1,
      "metadata": {
        "id": "q5bv7DYwrf5a"
      },
      "outputs": [],
      "source": [
        "class Library:\n",
        "    def __init__(self):\n",
        "        self.filename = \"books.txt\"\n",
        "        self.file = open(self.filename, \"a+\")\n",
        ""
      ]
    },
    {
      "cell_type": "code",
      "source": [
        " def __del__(self):\n",
        "        self.file.close()"
      ],
      "metadata": {
        "id": "H67oecROrjmR"
      },
      "execution_count": 1,
      "outputs": []
    },
    {
      "cell_type": "code",
      "source": [
        " def list_books(self):\n",
        "        self.file.seek(0)\n",
        "        books = self.file.readlines()\n",
        "        for book in books:\n",
        "            book_info = book.strip().split(',')\n",
        "            print(f\"Title: {book_info[0]}, Author: {book_info[1]}\")"
      ],
      "metadata": {
        "id": "_cKKv-oCrltJ"
      },
      "execution_count": 2,
      "outputs": []
    },
    {
      "cell_type": "code",
      "source": [
        "def add_book(self):\n",
        "        title = input(\"Enter book title: \")\n",
        "        author = input(\"Enter book author: \")\n",
        "        release_year = input(\"Enter release year: \")\n",
        "        num_pages = input(\"Enter number of pages: \")\n",
        "        book_info = f\"{title},{author},{release_year},{num_pages}\\n\"\n",
        "        self.file.write(book_info)"
      ],
      "metadata": {
        "id": "wS8ZjyybrnSI"
      },
      "execution_count": 3,
      "outputs": []
    },
    {
      "cell_type": "code",
      "source": [
        "def remove_book(self):\n",
        "        title = input(\"Enter book title to remove: \")\n",
        "        self.file.seek(0)\n",
        "        books = self.file.readlines()\n",
        "        new_books = []\n",
        "        for book in books:\n",
        "            book_info = book.strip().split(',')\n",
        "            if book_info[0] != title:\n",
        "                new_books.append(book)\n",
        "        self.file.seek(0)\n",
        "        self.file.truncate()\n",
        "        for book in new_books:\n",
        "            self.file.write(book)"
      ],
      "metadata": {
        "id": "aVIMdB1jrpPX"
      },
      "execution_count": 4,
      "outputs": []
    },
    {
      "cell_type": "code",
      "source": [
        "lib = Library()"
      ],
      "metadata": {
        "id": "0cOjwwO5rq9I"
      },
      "execution_count": 5,
      "outputs": []
    },
    {
      "cell_type": "code",
      "source": [
        "while True:\n",
        "    print(\"*** MENU ***\")\n",
        "    print(\"1) List Books\")\n",
        "    print(\"2) Add Book\")\n",
        "    print(\"3) Remove Book\")\n",
        "    print(\"q) Quit\")\n",
        "\n",
        "    menu_choice = input(\"Enter your choice (1/2/3/q): \")\n",
        "\n",
        "    if menu_choice == '1':\n",
        "        lib.list_books()\n",
        "    elif menu_choice == '2':\n",
        "        lib.add_book()\n",
        "    elif menu_choice == '3':\n",
        "        lib.remove_book()\n",
        "    elif menu_choice.lower() == 'q':\n",
        "        break  # Exit the loop and end the program\n",
        "    else:\n",
        "        print(\"Invalid choice\")\n"
      ],
      "metadata": {
        "colab": {
          "base_uri": "https://localhost:8080/",
          "height": 315
        },
        "id": "Bk68SdIDrsi4",
        "outputId": "cd42b5e8-7821-4ea7-d96f-7284b3030157"
      },
      "execution_count": 9,
      "outputs": [
        {
          "name": "stdout",
          "output_type": "stream",
          "text": [
            "*** MENU ***\n",
            "1) List Books\n",
            "2) Add Book\n",
            "3) Remove Book\n",
            "q) Quit\n",
            "Enter your choice (1/2/3/q): 1\n"
          ]
        },
        {
          "output_type": "error",
          "ename": "AttributeError",
          "evalue": "'Library' object has no attribute 'list_books'",
          "traceback": [
            "\u001b[0;31m---------------------------------------------------------------------------\u001b[0m",
            "\u001b[0;31mAttributeError\u001b[0m                            Traceback (most recent call last)",
            "\u001b[0;32m<ipython-input-9-013bf89931a9>\u001b[0m in \u001b[0;36m<cell line: 1>\u001b[0;34m()\u001b[0m\n\u001b[1;32m      9\u001b[0m \u001b[0;34m\u001b[0m\u001b[0m\n\u001b[1;32m     10\u001b[0m     \u001b[0;32mif\u001b[0m \u001b[0mmenu_choice\u001b[0m \u001b[0;34m==\u001b[0m \u001b[0;34m'1'\u001b[0m\u001b[0;34m:\u001b[0m\u001b[0;34m\u001b[0m\u001b[0;34m\u001b[0m\u001b[0m\n\u001b[0;32m---> 11\u001b[0;31m         \u001b[0mlib\u001b[0m\u001b[0;34m.\u001b[0m\u001b[0mlist_books\u001b[0m\u001b[0;34m(\u001b[0m\u001b[0;34m)\u001b[0m\u001b[0;34m\u001b[0m\u001b[0;34m\u001b[0m\u001b[0m\n\u001b[0m\u001b[1;32m     12\u001b[0m     \u001b[0;32melif\u001b[0m \u001b[0mmenu_choice\u001b[0m \u001b[0;34m==\u001b[0m \u001b[0;34m'2'\u001b[0m\u001b[0;34m:\u001b[0m\u001b[0;34m\u001b[0m\u001b[0;34m\u001b[0m\u001b[0m\n\u001b[1;32m     13\u001b[0m         \u001b[0mlib\u001b[0m\u001b[0;34m.\u001b[0m\u001b[0madd_book\u001b[0m\u001b[0;34m(\u001b[0m\u001b[0;34m)\u001b[0m\u001b[0;34m\u001b[0m\u001b[0;34m\u001b[0m\u001b[0m\n",
            "\u001b[0;31mAttributeError\u001b[0m: 'Library' object has no attribute 'list_books'"
          ]
        }
      ]
    }
  ]
}